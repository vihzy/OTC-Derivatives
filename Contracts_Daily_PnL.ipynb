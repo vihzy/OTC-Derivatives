{
 "cells": [
  {
   "cell_type": "code",
   "execution_count": 46,
   "id": "47818f61",
   "metadata": {},
   "outputs": [],
   "source": [
    "import pandas as pd\n",
    "import numpy as np"
   ]
  },
  {
   "cell_type": "code",
   "execution_count": 22,
   "id": "7f117067",
   "metadata": {},
   "outputs": [],
   "source": [
    "#数据预处理\n",
    "def Preprocessing(book_location,ic_location):#参数：book_location:交易风控台所有字段数据的所在磁盘位置。ic_location：ic期货数据   \n",
    "    data = pd.read_excel(book_location)\n",
    "    contracts = data[['position_id','market_value','delta_cash','valuation_date']].copy()\n",
    "    contracts['valuation_date'] = contracts['valuation_date'].apply(lambda x:str(x)[:10])   #日期时间戳格式全部改为字符串格式，方便后面操作\n",
    "        \n",
    "    #ic合约数据\n",
    "    ic_futures = pd.read_excel(ic_location)\n",
    "    ic_futures['日期'] = ic_futures['日期'].apply(lambda x: str(x)[:10])   #日期时间戳格式全部改为字符串格式，方便后面操作\n",
    "    ic_futures.rename(columns={'日期':'valuation_date'},inplace=True)\n",
    "    ic_futures = ic_futures.set_index('valuation_date')\n",
    "    \n",
    "    return {'Contracts':contracts,'Ic_futures':ic_futures}"
   ]
  },
  {
   "cell_type": "code",
   "execution_count": 30,
   "id": "1bdb7cc1",
   "metadata": {},
   "outputs": [],
   "source": [
    "#单个id每日PnL\n",
    "def Id_PnL(position_id):   #id: position_id字段,ic_futures期货数据\n",
    "    #产品端PnL\n",
    "    id_contracts = contracts[contracts['position_id'] == position_id]\n",
    "    product_pnl = (id_contracts['market_value'].shift(-1) - id_contracts['market_value'])[:-1].to_frame()  \n",
    "    product_pnl.rename(columns={'market_value':'product_pnl'},inplace=True)\n",
    "    date_col = id_contracts['valuation_date'].shift(-1)[:-1]   #时间列\n",
    "    date_col.name = 'date'\n",
    "    product_pnl.index=date_col  #索引改为日期\n",
    "    \n",
    "    \n",
    "    #对冲端delta cash\n",
    "    delta_df = id_contracts[['delta_cash','valuation_date']]\n",
    "    delta_df = delta_df.set_index('valuation_date')\n",
    "    delta_df = delta_df.join(ic_futures)   #连接上对应日期的IC期货主力合约收盘价\n",
    "    \n",
    "    #对冲端盈亏PnL_df\n",
    "    hedging_df = delta_df.copy()\n",
    "    \n",
    "    \n",
    "    hedging_df['单日对冲手数'] = -round((hedging_df['delta_cash']/(hedging_df['收盘价（主力合约）']*200)))\n",
    "    hedging_df['ic期货仓位'] = hedging_df['单日对冲手数'].cumsum()\n",
    "    hedging_df['单日对冲成本'] = hedging_df['单日对冲手数']*hedging_df['收盘价（主力合约）']*200   #对冲成本：正，表示买入；负，表示卖出\n",
    "    hedging_df['累计成本']=hedging_df['单日对冲成本'].cumsum()\n",
    "    hedging_df['已实现盈亏'] = -hedging_df['单日对冲成本']\n",
    "    hedging_df['一手成本'] = hedging_df['累计成本']/hedging_df['ic期货仓位']\n",
    "    # hedging_df['浮动盈亏'] = hedging_df['ic期货仓位']*(200*hedging_df['收盘价（主力合约）'] - hedging_df['一手成本'])\n",
    "    hedging_df['浮动盈亏'] = 200*hedging_df['收盘价（主力合约）']*hedging_df['ic期货仓位'] - hedging_df['累计成本']\n",
    "    hedging_df.index.name = 'date'\n",
    "    \n",
    "    #总盈亏 = 产品端盈亏+对冲端盈亏\n",
    "    pnl_df = hedging_df[['已实现盈亏','浮动盈亏']].join(product_pnl)\n",
    "    pnl_df.rename(columns={'已实现盈亏': '已实现盈亏'},inplace=True)\n",
    "    pnl_df.fillna(0,inplace=True)\n",
    "    pnl_df['总pnl'] = pnl_df['已实现盈亏']+pnl_df['浮动盈亏']+pnl_df['product_pnl']\n",
    "    pnl_df['position_id'] = position_id\n",
    "    \n",
    "    return pnl_df"
   ]
  },
  {
   "cell_type": "code",
   "execution_count": 31,
   "id": "61934e00",
   "metadata": {},
   "outputs": [],
   "source": [
    "def All_PnL(book_location, ic_location):\n",
    "    data = Preprocessing(book_location,ic_location)\n",
    "    contracts = data['Contracts']\n",
    "    ic_futures = data['Ic_futures']\n",
    "\n",
    "    id_l = list(contracts['position_id'].unique())  #合约id去重,得到所有id列表\n",
    "    pnl_df_l = []   #每个id的pnl_df为列表中一个元素\n",
    "    for i in range(len(id_l)):\n",
    "        pnl_df = Id_PnL(id_l[i])\n",
    "        pnl_df_l.append(pnl_df)\n",
    "    return pnl_df_l"
   ]
  },
  {
   "cell_type": "code",
   "execution_count": 34,
   "id": "9d1eb901",
   "metadata": {},
   "outputs": [],
   "source": [
    "book_location = 'C:/Users/lenovo/Desktop/资料/暑期资料/场外衍生品/对冲PnL.xlsx'\n",
    "ic_location = 'C:/Users/lenovo/Desktop/资料/暑期资料/量化/历史数据/IC期货.xlsx'\n",
    "pnl_df_l = All_PnL(book_location, ic_location)  #返回结果为一个列表，列表中每个元素是一个id的时间序列pnl的dataframe，该dataframe中含有position_id,可以根据这个id来筛选"
   ]
  },
  {
   "cell_type": "code",
   "execution_count": null,
   "id": "97249950",
   "metadata": {},
   "outputs": [],
   "source": []
  }
 ],
 "metadata": {
  "kernelspec": {
   "display_name": "Python 3 (ipykernel)",
   "language": "python",
   "name": "python3"
  },
  "language_info": {
   "codemirror_mode": {
    "name": "ipython",
    "version": 3
   },
   "file_extension": ".py",
   "mimetype": "text/x-python",
   "name": "python",
   "nbconvert_exporter": "python",
   "pygments_lexer": "ipython3",
   "version": "3.9.7"
  }
 },
 "nbformat": 4,
 "nbformat_minor": 5
}
