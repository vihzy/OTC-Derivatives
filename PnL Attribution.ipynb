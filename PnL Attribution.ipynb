{
 "cells": [
  {
   "cell_type": "markdown",
   "id": "0116fb3e",
   "metadata": {},
   "source": [
    "\n",
    "# 情景分析：在不同参数的情境下，交易组合估值的盈亏、希腊字母greeks的变化\n",
    "- 思路：每一种情景下利用FDE估对一支产品估值$\\rightarrow$（三层嵌套for)用于三维变量（指数点位、波动、到期时间）$\\rightarrow$指数上涨1%，变化后FDE再估值$\\rightarrow$新估值下盈亏（相减）、greeks变化、PNL分析\n"
   ]
  },
  {
   "cell_type": "code",
   "execution_count": 7,
   "id": "83457958",
   "metadata": {},
   "outputs": [],
   "source": [
    "import pandas as pd\n",
    "import numpy as np\n",
    "import QuantLib as ql"
   ]
  },
  {
   "cell_type": "code",
   "execution_count": 8,
   "id": "142078ee",
   "metadata": {},
   "outputs": [],
   "source": [
    "#看涨期权定价（基于Quantlib包）   安装Quantlib:  pip install QuantLib-Python          文档：https://quantlib-python-docs.readthedocs.io/en/latest/pricing_engines.html#vanilla-options\n",
    "def Pricing(price,vol,maturity):\n",
    "\n",
    "    today = ql.Date(18, 11, 2020)\n",
    "    ql.Settings.instance().evaluationDate = today\n",
    "    #构建期权\n",
    "    #普通看涨期权\n",
    "    payoff=ql.PlainVanillaPayoff(ql.Option.Call, 102.0)\n",
    "    #到期日期\n",
    "    europeanExercise=ql.EuropeanExercise(ql.Date(maturity[0], maturity[1], maturity[2]))\n",
    "    option = ql.EuropeanOption(payoff, europeanExercise)\n",
    "\n",
    "    #输入参数——标的资产价格，无风险利率，标的资产波动率\n",
    "    u = ql.SimpleQuote(price)      #标的资产价值\n",
    "    r = ql.SimpleQuote(0.05)       #无风险利率\n",
    "    sigma = ql.SimpleQuote(vol)    #波动率\n",
    "\n",
    "    #假定无风险利率和波动率曲线是平的\n",
    "    riskFreeCurve = ql.FlatForward(0, ql.TARGET(), ql.QuoteHandle(r), ql.Actual360())\n",
    "    volatility = ql.BlackConstantVol(0, ql.TARGET(), ql.QuoteHandle(sigma), ql.Actual360())\n",
    "\n",
    "    #初始化BS过程，并构造engine\n",
    "    process = ql.BlackScholesProcess(ql.QuoteHandle(u),\n",
    "                                  ql.YieldTermStructureHandle(riskFreeCurve),\n",
    "                                  ql.BlackVolTermStructureHandle(volatility))\n",
    "    engine = ql.AnalyticEuropeanEngine(process)\n",
    "    #对期权设定该engine\n",
    "    option.setPricingEngine(engine)\n",
    "#     print(f'看涨期权的当前价值为：{option.NPV():.4f}')\n",
    "    return {'Value':option.NPV(),'Delta':option.delta(),'Gamma':option.gamma(),'Vega':option.vega()}\n"
   ]
  },
  {
   "cell_type": "markdown",
   "id": "cbadec01",
   "metadata": {},
   "source": [
    "# 单笔合约损益、PNL\n",
    "- 采用字典数据结构\n",
    "- gamma cash有些问题"
   ]
  },
  {
   "cell_type": "code",
   "execution_count": 9,
   "id": "9805b5e0",
   "metadata": {},
   "outputs": [],
   "source": [
    "price_0 = 100  #标的价格期初\n",
    "vol_0 = 0.10   #波动率期初\n",
    "contract_mul = 100  #合约乘数\n",
    "num_contracts = 10  #合约数量\n",
    "value_0 = contract_mul*num_contracts*Pricing(price=100,vol=0.1,maturity=(18,5,2021))['Value'] #产品期初价值\n",
    "\n",
    "price_l = [101,102,103]    #股价 上升1%，2%，3%\n",
    "vol_l = [0.11,0.12,0.13]   #波动率 上升1%，2%，3%\n",
    "maturity_l = [(18,11,2021),(18,5,2022),(18,11,2022)]\n",
    "\n",
    "\n",
    "\n",
    "def Single_Product(price_l,vol_l,maturity_l):  #参数：标的价值变化列表，波动率变化列表、到期日变化列表\n",
    "    key_l = []  #三维数据直接构造字典键值对\n",
    "    pl_l = []\n",
    "    delta_l = []\n",
    "    gamma_l = []\n",
    "    vega_l = []\n",
    "    delta_cash_l = []\n",
    "    gamma_cash_l = []\n",
    "    for price in price_l:\n",
    "        for vol in vol_l:\n",
    "            for maturity in maturity_l:\n",
    "                key_l.append((price,vol,maturity))#时间作为键，期权价值及greeks作为值\n",
    "                \n",
    "                #期权价值变化\n",
    "                value = Pricing(price,vol,maturity)['Value']*contract_mul*num_contracts    #一种情景下，变化后的产品估值\n",
    "                delta_v = value - value_0   #盈亏/价值变化\n",
    "                pl_l.append(delta_v)\n",
    "                \n",
    "                #期权delta\n",
    "                delta = Pricing(price,vol,maturity)['Delta']    \n",
    "                delta_l.append(delta)\n",
    "                \n",
    "                #期权gamama\n",
    "                gamma = Pricing(price,vol,maturity)['Gamma']    \n",
    "                gamma_l.append(gamma)\n",
    "                \n",
    "                #期权vega\n",
    "                vega = Pricing(price,vol,maturity)['Vega']    \n",
    "                vega_l.append(vega)\n",
    "                \n",
    "                #一种情景下的delta cash\n",
    "                delta_cash = 0\n",
    "                #离散为小区间\n",
    "                price_sec = []\n",
    "                disp_nums = 100  #离散区间数\n",
    "                for i in range(disp_nums):  \n",
    "                    price_sec.append(price_0 + (i+1)*(price - price_0)/disp_nums)   #价格离散        \n",
    "                    delta_p = Pricing(price_sec[i],vol,maturity)['Delta'] #小区间中，离散后的delta,Delta cash=合约数量*合约乘数*delta*变化的标的价格\n",
    "                    delta_cash_i = delta_p*(price - price_0)/disp_nums*num_contracts*contract_mul   #离散后每一个小区间的delta cash\n",
    "                    delta_cash = delta_cash + delta_cash_i\n",
    "                delta_cash_l.append(delta_cash)   \n",
    "                \n",
    "                #一种情景下的gamma cash\n",
    "                gamma_cash = 0\n",
    "                #离散为小区间\n",
    "                price_sec = []\n",
    "                disp_nums = 100  #离散区间数\n",
    "                for i in range(disp_nums):  \n",
    "                    price_sec.append(price_0 + (i+1)*(price - price_0)/disp_nums)   #价格离散        \n",
    "                    gamma_p = Pricing(price_sec[i],vol,maturity)['Gamma'] #小区间中，离散后的gamma\n",
    "                    gamma_cash_i = 0.5*gamma_p*((price - price_0)/disp_nums)**2*num_contracts*contract_mul   #离散后每一个小区间的gamma cash.gamma cash =合约数量*合约乘数*0.5*gamma*变化的标的价格^2\n",
    "                    gamma_cash = gamma_cash + gamma_cash_i\n",
    "                gamma_cash_l.append(gamma_cash)\n",
    "                \n",
    "                               \n",
    "                pl_dic = dict(zip(key_l,pl_l))   #键值合并，构造盈亏字典\n",
    "                delta_dic = dict(zip(key_l,delta_l))   #键值合并，构造delta字典\n",
    "                gamma_dic = dict(zip(key_l,gamma_l))\n",
    "                vega_dic = dict(zip(key_l,vega_l))\n",
    "                delta_cash_dic = dict(zip(key_l,delta_cash_l))\n",
    "                gamma_cash_dic = dict(zip(key_l,gamma_cash_l))\n",
    "                \n",
    "                \n",
    "                \n",
    "                \n",
    "                \n",
    "\n",
    "    return {'PL':pl_dic,\n",
    "            'Delta':delta_dic,\n",
    "            'Gamma':gamma_dic,\n",
    "            'Vega':vega_dic,\n",
    "            'Delta_cash':delta_cash_dic,\n",
    "            'Gamma_cash':gamma_cash_dic}\n",
    "    "
   ]
  },
  {
   "cell_type": "code",
   "execution_count": 10,
   "id": "b98b8e7d",
   "metadata": {},
   "outputs": [
    {
     "data": {
      "text/plain": [
       "{(101, 0.11, (18, 11, 2021)): 3591.1394011304615,\n",
       " (101, 0.11, (18, 5, 2022)): 6022.887972762988,\n",
       " (101, 0.11, (18, 11, 2022)): 8350.171145318722,\n",
       " (101, 0.12, (18, 11, 2021)): 3964.0172279715266,\n",
       " (101, 0.12, (18, 5, 2022)): 6452.469161317627,\n",
       " (101, 0.12, (18, 11, 2022)): 8817.309762729448,\n",
       " (101, 0.13, (18, 11, 2021)): 4340.372043566575,\n",
       " (101, 0.13, (18, 5, 2022)): 6889.095370014229,\n",
       " (101, 0.13, (18, 11, 2022)): 9295.53673913752,\n",
       " (102, 0.11, (18, 11, 2021)): 4271.4312157956065,\n",
       " (102, 0.11, (18, 5, 2022)): 6745.65664990187,\n",
       " (102, 0.11, (18, 11, 2022)): 9106.355576164968,\n",
       " (102, 0.12, (18, 11, 2021)): 4633.737774576493,\n",
       " (102, 0.12, (18, 5, 2022)): 7162.559308354703,\n",
       " (102, 0.12, (18, 11, 2022)): 9559.432274099376,\n",
       " (102, 0.13, (18, 11, 2021)): 5001.322235853328,\n",
       " (102, 0.13, (18, 5, 2022)): 7588.578160498093,\n",
       " (102, 0.13, (18, 11, 2022)): 10025.801296474887,\n",
       " (103, 0.11, (18, 11, 2021)): 4982.669132606936,\n",
       " (103, 0.11, (18, 5, 2022)): 7492.133809799036,\n",
       " (103, 0.11, (18, 11, 2022)): 9881.72980121184,\n",
       " (103, 0.12, (18, 11, 2021)): 5332.296972694083,\n",
       " (103, 0.12, (18, 5, 2022)): 7894.9234368170055,\n",
       " (103, 0.12, (18, 11, 2022)): 10319.73318144121,\n",
       " (103, 0.13, (18, 11, 2021)): 5689.23405630804,\n",
       " (103, 0.13, (18, 5, 2022)): 8309.016208063358,\n",
       " (103, 0.13, (18, 11, 2022)): 10773.27763267984}"
      ]
     },
     "execution_count": 10,
     "metadata": {},
     "output_type": "execute_result"
    }
   ],
   "source": [
    "Single_Product(price_l=price_l,vol_l=vol_l,maturity_l=maturity_l)['PL']"
   ]
  },
  {
   "cell_type": "code",
   "execution_count": 11,
   "id": "05d0b4e3",
   "metadata": {
    "scrolled": true
   },
   "outputs": [
    {
     "data": {
      "text/plain": [
       "{(101, 0.11, (18, 11, 2021)): 647.8785001701583,\n",
       " (101, 0.11, (18, 5, 2022)): 697.903042104798,\n",
       " (101, 0.11, (18, 11, 2022)): 736.044394519921,\n",
       " (101, 0.12, (18, 11, 2021)): 639.6904442427357,\n",
       " (101, 0.12, (18, 5, 2022)): 686.8700096087767,\n",
       " (101, 0.12, (18, 11, 2022)): 723.1611644899549,\n",
       " (101, 0.13, (18, 11, 2021)): 633.0019850872447,\n",
       " (101, 0.13, (18, 5, 2022)): 677.7400856445585,\n",
       " (101, 0.13, (18, 11, 2022)): 712.397368659902,\n",
       " (102, 0.11, (18, 11, 2021)): 1328.6548228301,\n",
       " (102, 0.11, (18, 5, 2022)): 1421.0433305807892,\n",
       " (102, 0.11, (18, 11, 2022)): 1492.5297827589523,\n",
       " (102, 0.12, (18, 11, 2021)): 1309.8603027215509,\n",
       " (102, 0.12, (18, 5, 2022)): 1397.3075177267342,\n",
       " (102, 0.12, (18, 11, 2022)): 1465.567302933951,\n",
       " (102, 0.13, (18, 11, 2021)): 1294.3706510441305,\n",
       " (102, 0.13, (18, 5, 2022)): 1377.548385611636,\n",
       " (102, 0.13, (18, 11, 2022)): 1442.929395203646,\n",
       " (103, 0.11, (18, 11, 2021)): 2040.669367002905,\n",
       " (103, 0.11, (18, 5, 2022)): 2168.115945112232,\n",
       " (103, 0.11, (18, 11, 2022)): 2268.3861635892254,\n",
       " (103, 0.12, (18, 11, 2021)): 2009.1429296248596,\n",
       " (103, 0.12, (18, 5, 2022)): 2130.2307612480886,\n",
       " (103, 0.12, (18, 11, 2022)): 2226.324670208718,\n",
       " (103, 0.13, (18, 11, 2021)): 1982.9585983327381,\n",
       " (103, 0.13, (18, 5, 2022)): 2098.512226007193,\n",
       " (103, 0.13, (18, 11, 2022)): 2190.8377170793956}"
      ]
     },
     "execution_count": 11,
     "metadata": {},
     "output_type": "execute_result"
    }
   ],
   "source": [
    "Single_Product(price_l=price_l,vol_l=vol_l,maturity_l=maturity_l)['Delta_cash']"
   ]
  },
  {
   "cell_type": "code",
   "execution_count": 12,
   "id": "5e124ae3",
   "metadata": {},
   "outputs": [
    {
     "data": {
      "text/plain": [
       "{(101, 0.11, (18, 11, 2021)): 0.16668037277475123,\n",
       " (101, 0.11, (18, 5, 2022)): 0.12806287474523573,\n",
       " (101, 0.11, (18, 11, 2022)): 0.10380560034524684,\n",
       " (101, 0.12, (18, 11, 2021)): 0.15404027708947665,\n",
       " (101, 0.12, (18, 5, 2022)): 0.11926125088540669,\n",
       " (101, 0.12, (18, 11, 2022)): 0.09745114218765345,\n",
       " (101, 0.13, (18, 11, 2021)): 0.14308277144416143,\n",
       " (101, 0.13, (18, 5, 2022)): 0.1114350525017612,\n",
       " (101, 0.13, (18, 11, 2022)): 0.09162328320337555,\n",
       " (102, 0.11, (18, 11, 2021)): 0.6510057809214577,\n",
       " (102, 0.11, (18, 5, 2022)): 0.49952692823793776,\n",
       " (102, 0.11, (18, 11, 2022)): 0.40464072593155687,\n",
       " (102, 0.12, (18, 11, 2021)): 0.6032015868631951,\n",
       " (102, 0.12, (18, 5, 2022)): 0.46650025830787417,\n",
       " (102, 0.12, (18, 11, 2022)): 0.3809761829635223,\n",
       " (102, 0.13, (18, 11, 2021)): 0.5614298058084957,\n",
       " (102, 0.13, (18, 5, 2022)): 0.4368415118213249,\n",
       " (102, 0.13, (18, 11, 2022)): 0.359005945150031,\n",
       " (103, 0.11, (18, 11, 2021)): 1.4271087958132722,\n",
       " (103, 0.11, (18, 5, 2022)): 1.0945728801549446,\n",
       " (103, 0.11, (18, 11, 2022)): 0.8864628362098217,\n",
       " (103, 0.12, (18, 11, 2021)): 1.3261983778445599,\n",
       " (103, 0.12, (18, 5, 2022)): 1.025276272128136,\n",
       " (103, 0.12, (18, 11, 2022)): 0.8371571666184238,\n",
       " (103, 0.13, (18, 11, 2021)): 1.2371939221096564,\n",
       " (103, 0.13, (18, 5, 2022)): 0.9623481810042382,\n",
       " (103, 0.13, (18, 11, 2022)): 0.7907547944976642}"
      ]
     },
     "execution_count": 12,
     "metadata": {},
     "output_type": "execute_result"
    }
   ],
   "source": [
    "Single_Product(price_l=price_l,vol_l=vol_l,maturity_l=maturity_l)['Gamma_cash']\n"
   ]
  },
  {
   "cell_type": "code",
   "execution_count": null,
   "id": "d4ec0d5a",
   "metadata": {},
   "outputs": [],
   "source": []
  }
 ],
 "metadata": {
  "kernelspec": {
   "display_name": "Python 3 (ipykernel)",
   "language": "python",
   "name": "python3"
  },
  "language_info": {
   "codemirror_mode": {
    "name": "ipython",
    "version": 3
   },
   "file_extension": ".py",
   "mimetype": "text/x-python",
   "name": "python",
   "nbconvert_exporter": "python",
   "pygments_lexer": "ipython3",
   "version": "3.9.7"
  }
 },
 "nbformat": 4,
 "nbformat_minor": 5
}
