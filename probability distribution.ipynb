{
 "cells": [
  {
   "cell_type": "code",
   "execution_count": 3,
   "id": "878a7f56",
   "metadata": {},
   "outputs": [],
   "source": [
    "import pandas as pd\n",
    "import numpy as np\n",
    "from scipy import stats\n",
    "import matplotlib.pyplot as plt"
   ]
  },
  {
   "cell_type": "code",
   "execution_count": 9,
   "id": "03e56647",
   "metadata": {},
   "outputs": [],
   "source": [
    "#收益率概率分布\n",
    "def return_pro_dis(df, rolling_window):       #df:含['日期'、'涨跌幅(%)']字段的dataframe     rolling_window:窗口大小\n",
    "    #数据预处理\n",
    "    df.set_index('日期',inplace=True)\n",
    "    df = df.sort_index()\n",
    "    df.rename(columns={'涨跌幅(%)':'1日收益率(%)'},inplace=True)\n",
    "    df['滚动收益率(%)'] = df['1日收益率(%)'].rolling(rolling_window).mean()   #n日滚动收益\n",
    "    df.fillna(0,inplace=True)  #填充滚动收益率空值\n",
    "    \n",
    "    #收益率概率密度\n",
    "    density = stats.kde.gaussian_kde(df['滚动收益率(%)'])  #高斯核估计PDE  详见https://docs.scipy.org/doc/scipy/reference/generated/scipy.stats.gaussian_kde.html\n",
    "    return density   #通过density.evaluate(point)可以得到某一收益率的概率"
   ]
  },
  {
   "cell_type": "code",
   "execution_count": 16,
   "id": "55b752e2",
   "metadata": {},
   "outputs": [],
   "source": [
    "#成交量概率分布(1天rolling_window)\n",
    "def turnover_pro_dis(df):       #df:含['日期'、'成交量(股)']字段的dataframe\n",
    "    #成交量概率密度\n",
    "    density = stats.kde.gaussian_kde(df['成交量(股)'])  #高斯核估计PDE\n",
    "    return density   #通过density.evaluate(point)可以得到某一成交量的概率"
   ]
  },
  {
   "cell_type": "markdown",
   "id": "6e275996",
   "metadata": {},
   "source": [
    "##### 举例（收益率概率分布）"
   ]
  },
  {
   "cell_type": "code",
   "execution_count": 139,
   "id": "62e73ae8",
   "metadata": {},
   "outputs": [
    {
     "name": "stdout",
     "output_type": "stream",
     "text": [
      "该收益率下的概率： [0.10638466]\n",
      "区间累积概率： 0.9899414273339797\n"
     ]
    }
   ],
   "source": [
    "#参数\n",
    "df = pd.read_excel(r'C:\\Users\\lenovo\\Desktop\\资料\\暑期资料\\量化\\历史数据\\600711.SH 涨跌幅.xlsx') #从同花顺导出日期、涨跌幅\n",
    "rolling_window = 3\n",
    "\n",
    "density = return_pro_dis(df, rolling_window)\n",
    "\n",
    "#某一收益率的概率\n",
    "print('该收益率下的概率：',density.evaluate(2))\n",
    "\n",
    "#某一区间累计概率(需要手动插值找出分位数)\n",
    "'''\n",
    "经过手工插值,\n",
    "600711 50%分位：(-10,-0.03)   60%分位：（-10,0.43）     70%分位：（-10,0.53)     80%分位：（-10,1.49）    90%分位：(-10,2.38)\n",
    "       95%分位：(-10,3.28)    99%分位：（-10，5.37）\n",
    "'''\n",
    "\n",
    "print('区间累积概率：',density.integrate_box_1d(-10,5.37))  #参数：区间下限（收益率最低-10），区间上限\n",
    "\n",
    "\n",
    "\n",
    "# #密度分布画图\n",
    "# bins = np.arange(-10,10,0.01)\n",
    "# plt.plot(bins,density(bins))\n",
    "# plt.title('Return density')"
   ]
  },
  {
   "cell_type": "markdown",
   "id": "1255b4dd",
   "metadata": {},
   "source": [
    "##### 举例（成交量概率分布）"
   ]
  },
  {
   "cell_type": "code",
   "execution_count": 143,
   "id": "122fd634",
   "metadata": {},
   "outputs": [
    {
     "name": "stdout",
     "output_type": "stream",
     "text": [
      "该成交量下的概率： [7.55320644e-09]\n",
      "区间累积概率： 0.5000780419294297\n"
     ]
    }
   ],
   "source": [
    "df = pd.read_excel(r'C:\\Users\\lenovo\\Desktop\\资料\\暑期资料\\量化\\历史数据\\600711.SH 成交量.xlsx') #从同花顺导出日期、成交量\n",
    "density = turnover_pro_dis(df)\n",
    "\n",
    "#某一成交量的概率\n",
    "print('该成交量下的概率：',density.evaluate(80000000))\n",
    "print('区间累积概率：',density.integrate_box_1d(0,86700000))\n",
    "\n",
    "# #密度分布画图\n",
    "# bins = np.arange(0,99999999,10000)\n",
    "# plt.plot(bins,density(bins))\n",
    "# plt.title('Turnover density')"
   ]
  },
  {
   "cell_type": "code",
   "execution_count": null,
   "id": "182a48c5",
   "metadata": {},
   "outputs": [],
   "source": []
  }
 ],
 "metadata": {
  "kernelspec": {
   "display_name": "Python 3 (ipykernel)",
   "language": "python",
   "name": "python3"
  },
  "language_info": {
   "codemirror_mode": {
    "name": "ipython",
    "version": 3
   },
   "file_extension": ".py",
   "mimetype": "text/x-python",
   "name": "python",
   "nbconvert_exporter": "python",
   "pygments_lexer": "ipython3",
   "version": "3.9.7"
  }
 },
 "nbformat": 4,
 "nbformat_minor": 5
}
