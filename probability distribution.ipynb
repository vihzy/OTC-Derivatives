{
 "cells": [
  {
   "cell_type": "code",
   "execution_count": 2,
   "id": "537b7a8e",
   "metadata": {},
   "outputs": [],
   "source": [
    "import pandas as pd\n",
    "import numpy as np\n",
    "from scipy import stats\n",
    "import matplotlib.pyplot as plt"
   ]
  },
  {
   "cell_type": "code",
   "execution_count": 12,
   "id": "0bec1142",
   "metadata": {},
   "outputs": [],
   "source": [
    "#收益率分位数分布\n",
    "def return_distribution(data):       #df:含['日期'、'收盘价']字段的dataframe     rolling_window:窗口大小\n",
    "    quantile_df = pd.DataFrame()\n",
    "    rolling_window_l = [1,2,3]\n",
    "    for i in rolling_window_l:\n",
    "        df = data.copy()\n",
    "        df.set_index('日期',inplace=True)\n",
    "        df = df.sort_index()\n",
    "        df['滚动收益率(%)'] = np.log(df['收盘价(元)']/df['收盘价(元)'].shift(i))\n",
    "        df = df[i:]\n",
    "        df = df[df['滚动收益率(%)']<0]\n",
    "        df['滚动收益率(%)'] = -df['滚动收益率(%)']  #去掉符号得到下跌绝对值\n",
    "        df.sort_values(by='滚动收益率(%)',inplace=True)  #按收益率升序排序\n",
    "\n",
    "         #分位数计算\n",
    "        quantile_dic = {}  #分位数字典存放最终结果\n",
    "\n",
    "        for j in [0.5, 0.6, 0.7, 0.8, 0.9, 0.95, 0.99]:\n",
    "            quantile_dic[str(j)] = df['滚动收益率(%)'].iloc[round(len(df)*j)]   #分位对应排位四舍五入\n",
    "        quantile_df = pd.concat([quantile_df,pd.Series(quantile_dic).to_frame()],axis=1)\n",
    "    quantile_df.columns = rolling_window_l\n",
    "    return quantile_df\n",
    "    "
   ]
  },
  {
   "cell_type": "code",
   "execution_count": 22,
   "id": "2f2200f2",
   "metadata": {},
   "outputs": [],
   "source": [
    "#成交量分位数分布\n",
    "def turnover_distribution(df):       \n",
    "    #数据预处理\n",
    "    df.sort_values(by='成交量(股)',inplace=True)  #按收益率排序\n",
    "    #分位数计算\n",
    "    quantile_dic = {}  #分位数字典存放最终结果\n",
    "    for i in [0.5, 0.6, 0.7, 0.8, 0.9, 0.95, 0.99]:\n",
    "        quantile_dic[str(i)] = df['成交量(股)'].iloc[round(len(df)*i)]   #分位对应排位四舍五入\n",
    "    return quantile_dic   #字典格式，键为概率分位数，值为对应收益率"
   ]
  },
  {
   "cell_type": "markdown",
   "id": "4f56cf6f",
   "metadata": {},
   "source": [
    "### 收益率分位数举例"
   ]
  },
  {
   "cell_type": "code",
   "execution_count": 21,
   "id": "f16d69b3",
   "metadata": {},
   "outputs": [
    {
     "data": {
      "text/html": [
       "<div>\n",
       "<style scoped>\n",
       "    .dataframe tbody tr th:only-of-type {\n",
       "        vertical-align: middle;\n",
       "    }\n",
       "\n",
       "    .dataframe tbody tr th {\n",
       "        vertical-align: top;\n",
       "    }\n",
       "\n",
       "    .dataframe thead th {\n",
       "        text-align: right;\n",
       "    }\n",
       "</style>\n",
       "<table border=\"1\" class=\"dataframe\">\n",
       "  <thead>\n",
       "    <tr style=\"text-align: right;\">\n",
       "      <th></th>\n",
       "      <th>1</th>\n",
       "      <th>2</th>\n",
       "      <th>3</th>\n",
       "    </tr>\n",
       "  </thead>\n",
       "  <tbody>\n",
       "    <tr>\n",
       "      <th>0.5</th>\n",
       "      <td>0.014185</td>\n",
       "      <td>0.017744</td>\n",
       "      <td>0.025593</td>\n",
       "    </tr>\n",
       "    <tr>\n",
       "      <th>0.6</th>\n",
       "      <td>0.017288</td>\n",
       "      <td>0.022455</td>\n",
       "      <td>0.032049</td>\n",
       "    </tr>\n",
       "    <tr>\n",
       "      <th>0.7</th>\n",
       "      <td>0.022044</td>\n",
       "      <td>0.027816</td>\n",
       "      <td>0.038521</td>\n",
       "    </tr>\n",
       "    <tr>\n",
       "      <th>0.8</th>\n",
       "      <td>0.030374</td>\n",
       "      <td>0.036991</td>\n",
       "      <td>0.052265</td>\n",
       "    </tr>\n",
       "    <tr>\n",
       "      <th>0.9</th>\n",
       "      <td>0.047330</td>\n",
       "      <td>0.055529</td>\n",
       "      <td>0.078792</td>\n",
       "    </tr>\n",
       "    <tr>\n",
       "      <th>0.95</th>\n",
       "      <td>0.053714</td>\n",
       "      <td>0.087912</td>\n",
       "      <td>0.096392</td>\n",
       "    </tr>\n",
       "    <tr>\n",
       "      <th>0.99</th>\n",
       "      <td>0.097368</td>\n",
       "      <td>0.149855</td>\n",
       "      <td>0.144968</td>\n",
       "    </tr>\n",
       "  </tbody>\n",
       "</table>\n",
       "</div>"
      ],
      "text/plain": [
       "             1         2         3\n",
       "0.5   0.014185  0.017744  0.025593\n",
       "0.6   0.017288  0.022455  0.032049\n",
       "0.7   0.022044  0.027816  0.038521\n",
       "0.8   0.030374  0.036991  0.052265\n",
       "0.9   0.047330  0.055529  0.078792\n",
       "0.95  0.053714  0.087912  0.096392\n",
       "0.99  0.097368  0.149855  0.144968"
      ]
     },
     "execution_count": 21,
     "metadata": {},
     "output_type": "execute_result"
    }
   ],
   "source": [
    "df = pd.read_excel(r'C:\\Users\\lenovo\\Desktop\\资料\\暑期资料\\量化\\历史数据\\000905收益率.xlsx')\n",
    "return_distribution(df)"
   ]
  },
  {
   "cell_type": "markdown",
   "id": "050c422a",
   "metadata": {},
   "source": [
    "### 成交量分位数举例"
   ]
  },
  {
   "cell_type": "code",
   "execution_count": 29,
   "id": "d05aeeb7",
   "metadata": {},
   "outputs": [
    {
     "data": {
      "text/html": [
       "<div>\n",
       "<style scoped>\n",
       "    .dataframe tbody tr th:only-of-type {\n",
       "        vertical-align: middle;\n",
       "    }\n",
       "\n",
       "    .dataframe tbody tr th {\n",
       "        vertical-align: top;\n",
       "    }\n",
       "\n",
       "    .dataframe thead th {\n",
       "        text-align: right;\n",
       "    }\n",
       "</style>\n",
       "<table border=\"1\" class=\"dataframe\">\n",
       "  <thead>\n",
       "    <tr style=\"text-align: right;\">\n",
       "      <th></th>\n",
       "      <th>0</th>\n",
       "    </tr>\n",
       "  </thead>\n",
       "  <tbody>\n",
       "    <tr>\n",
       "      <th>0.5</th>\n",
       "      <td>14611389600</td>\n",
       "    </tr>\n",
       "    <tr>\n",
       "      <th>0.6</th>\n",
       "      <td>15430441100</td>\n",
       "    </tr>\n",
       "    <tr>\n",
       "      <th>0.7</th>\n",
       "      <td>16566638200</td>\n",
       "    </tr>\n",
       "    <tr>\n",
       "      <th>0.8</th>\n",
       "      <td>17905346000</td>\n",
       "    </tr>\n",
       "    <tr>\n",
       "      <th>0.9</th>\n",
       "      <td>20171171900</td>\n",
       "    </tr>\n",
       "    <tr>\n",
       "      <th>0.95</th>\n",
       "      <td>23511865800</td>\n",
       "    </tr>\n",
       "    <tr>\n",
       "      <th>0.99</th>\n",
       "      <td>28830435200</td>\n",
       "    </tr>\n",
       "  </tbody>\n",
       "</table>\n",
       "</div>"
      ],
      "text/plain": [
       "                0\n",
       "0.5   14611389600\n",
       "0.6   15430441100\n",
       "0.7   16566638200\n",
       "0.8   17905346000\n",
       "0.9   20171171900\n",
       "0.95  23511865800\n",
       "0.99  28830435200"
      ]
     },
     "execution_count": 29,
     "metadata": {},
     "output_type": "execute_result"
    }
   ],
   "source": [
    "#600711\n",
    "df = pd.read_excel(r'C:\\Users\\lenovo\\Desktop\\资料\\暑期资料\\量化\\历史数据\\000300成交量.xlsx')\n",
    "quantile_t_dic = turnover_distribution(df)\n",
    "pd.Series(quantile_t_dic).to_frame()  #键为分位数，值为对应成交量"
   ]
  }
 ],
 "metadata": {
  "kernelspec": {
   "display_name": "Python 3 (ipykernel)",
   "language": "python",
   "name": "python3"
  },
  "language_info": {
   "codemirror_mode": {
    "name": "ipython",
    "version": 3
   },
   "file_extension": ".py",
   "mimetype": "text/x-python",
   "name": "python",
   "nbconvert_exporter": "python",
   "pygments_lexer": "ipython3",
   "version": "3.9.7"
  }
 },
 "nbformat": 4,
 "nbformat_minor": 5
}
