{
 "cells": [
  {
   "cell_type": "code",
   "execution_count": 1,
   "id": "537b7a8e",
   "metadata": {},
   "outputs": [],
   "source": [
    "import pandas as pd\n",
    "import numpy as np\n",
    "from scipy import stats\n",
    "import matplotlib.pyplot as plt"
   ]
  },
  {
   "cell_type": "code",
   "execution_count": 26,
   "id": "0bec1142",
   "metadata": {},
   "outputs": [],
   "source": [
    "#收益率分位数分布\n",
    "def return_distribution(df, rolling_window):       #df:含['日期'、'涨跌幅(%)']字段的dataframe     rolling_window:窗口大小\n",
    "    #数据预处理\n",
    "    df.set_index('日期',inplace=True)\n",
    "    df = df.sort_index()\n",
    "    df.rename(columns={'涨跌幅(%)':'1日收益率(%)'},inplace=True)\n",
    "    df['滚动收益率(%)'] = df['1日收益率(%)'].rolling(rolling_window).mean()   #n日滚动收益\n",
    "    df=df[rolling_window-1:]  #去掉滚动收益率空值的\n",
    "    df.sort_values(by='滚动收益率(%)',inplace=True)  #按收益率排序\n",
    "    \n",
    "    #分位数计算\n",
    "    quantile_dic = {}  #分位数字典存放最终结果\n",
    "    for i in [0.5, 0.6, 0.7, 0.8, 0.9, 0.95, 0.99]:\n",
    "        quantile_dic[str(i)] = df['滚动收益率(%)'].iloc[round(len(df)*i)]   #分位对应排位四舍五入\n",
    "    return quantile_dic   #字典格式，键为概率分位数，值为对应收益率\n",
    "    "
   ]
  },
  {
   "cell_type": "code",
   "execution_count": 66,
   "id": "2f2200f2",
   "metadata": {},
   "outputs": [],
   "source": [
    "#成交量分位数分布\n",
    "def turnover_distribution(df):       #df:含['日期'、'涨跌幅(%)']字段的dataframe     rolling_window:窗口大小\n",
    "    #数据预处理\n",
    "    df.sort_values(by='成交量(股)',inplace=True)  #按收益率排序\n",
    "    #分位数计算\n",
    "    quantile_dic = {}  #分位数字典存放最终结果\n",
    "    for i in [0.5, 0.6, 0.7, 0.8, 0.9, 0.95, 0.99]:\n",
    "        quantile_dic[str(i)] = df['成交量(股)'].iloc[round(len(df)*i)]   #分位对应排位四舍五入\n",
    "    return quantile_dic   #字典格式，键为概率分位数，值为对应收益率"
   ]
  },
  {
   "cell_type": "code",
   "execution_count": 57,
   "id": "ecc73d22",
   "metadata": {},
   "outputs": [],
   "source": [
    "#不同rolling窗口下、不同分位数下的某一股票收益率\n",
    "def quantile_r(location):   #location:含['日期'、'涨跌幅(%)']字段的某股票的文件位置\n",
    "    rolling_window_l = [1,2,3]\n",
    "    quantile_r_df = pd.DataFrame()\n",
    "    for rolling_window in rolling_window_l:\n",
    "        df = pd.read_excel(location)\n",
    "        quantile_r_dic = return_distribution(df, rolling_window)\n",
    "        quantile_r_df = pd.concat([quantile_r_df,pd.Series(quantile_r_dic)],axis=1)\n",
    "    quantile_r_df.columns = rolling_window_l\n",
    "    # quantile_r_dic\n",
    "    return quantile_r_df  #列名为rolling_window,行名为分位数，值为对应收益率"
   ]
  },
  {
   "cell_type": "markdown",
   "id": "4f56cf6f",
   "metadata": {},
   "source": [
    "### 收益率分位数举例"
   ]
  },
  {
   "cell_type": "code",
   "execution_count": 65,
   "id": "f16d69b3",
   "metadata": {},
   "outputs": [
    {
     "data": {
      "text/html": [
       "<div>\n",
       "<style scoped>\n",
       "    .dataframe tbody tr th:only-of-type {\n",
       "        vertical-align: middle;\n",
       "    }\n",
       "\n",
       "    .dataframe tbody tr th {\n",
       "        vertical-align: top;\n",
       "    }\n",
       "\n",
       "    .dataframe thead th {\n",
       "        text-align: right;\n",
       "    }\n",
       "</style>\n",
       "<table border=\"1\" class=\"dataframe\">\n",
       "  <thead>\n",
       "    <tr style=\"text-align: right;\">\n",
       "      <th></th>\n",
       "      <th>1</th>\n",
       "      <th>2</th>\n",
       "      <th>3</th>\n",
       "    </tr>\n",
       "  </thead>\n",
       "  <tbody>\n",
       "    <tr>\n",
       "      <th>0.5</th>\n",
       "      <td>0.2660</td>\n",
       "      <td>-0.01440</td>\n",
       "      <td>-0.007900</td>\n",
       "    </tr>\n",
       "    <tr>\n",
       "      <th>0.6</th>\n",
       "      <td>0.9862</td>\n",
       "      <td>0.64525</td>\n",
       "      <td>0.422133</td>\n",
       "    </tr>\n",
       "    <tr>\n",
       "      <th>0.7</th>\n",
       "      <td>1.6546</td>\n",
       "      <td>1.14340</td>\n",
       "      <td>0.938433</td>\n",
       "    </tr>\n",
       "    <tr>\n",
       "      <th>0.8</th>\n",
       "      <td>2.6846</td>\n",
       "      <td>1.91075</td>\n",
       "      <td>1.369900</td>\n",
       "    </tr>\n",
       "    <tr>\n",
       "      <th>0.9</th>\n",
       "      <td>4.1379</td>\n",
       "      <td>2.81040</td>\n",
       "      <td>2.172467</td>\n",
       "    </tr>\n",
       "    <tr>\n",
       "      <th>0.95</th>\n",
       "      <td>5.3476</td>\n",
       "      <td>3.73610</td>\n",
       "      <td>3.126267</td>\n",
       "    </tr>\n",
       "    <tr>\n",
       "      <th>0.99</th>\n",
       "      <td>8.1761</td>\n",
       "      <td>5.86855</td>\n",
       "      <td>5.995700</td>\n",
       "    </tr>\n",
       "  </tbody>\n",
       "</table>\n",
       "</div>"
      ],
      "text/plain": [
       "           1        2         3\n",
       "0.5   0.2660 -0.01440 -0.007900\n",
       "0.6   0.9862  0.64525  0.422133\n",
       "0.7   1.6546  1.14340  0.938433\n",
       "0.8   2.6846  1.91075  1.369900\n",
       "0.9   4.1379  2.81040  2.172467\n",
       "0.95  5.3476  3.73610  3.126267\n",
       "0.99  8.1761  5.86855  5.995700"
      ]
     },
     "execution_count": 65,
     "metadata": {},
     "output_type": "execute_result"
    }
   ],
   "source": [
    "location = r'C:\\Users\\lenovo\\Desktop\\资料\\暑期资料\\量化\\历史数据\\600711.SH 涨跌幅.xlsx'\n",
    "quantile_r(location)  #列名为rolling_window,行名为分位数，值为对应收益率"
   ]
  },
  {
   "cell_type": "markdown",
   "id": "050c422a",
   "metadata": {},
   "source": [
    "### 成交量分位数举例"
   ]
  },
  {
   "cell_type": "code",
   "execution_count": 67,
   "id": "d05aeeb7",
   "metadata": {},
   "outputs": [
    {
     "data": {
      "text/plain": [
       "{'0.5': 78776133,\n",
       " '0.6': 92968822,\n",
       " '0.7': 116147328,\n",
       " '0.8': 143430486,\n",
       " '0.9': 209153893,\n",
       " '0.95': 273171120,\n",
       " '0.99': 415372889}"
      ]
     },
     "execution_count": 67,
     "metadata": {},
     "output_type": "execute_result"
    }
   ],
   "source": [
    "#600711\n",
    "df = pd.read_excel(r'C:\\Users\\lenovo\\Desktop\\资料\\暑期资料\\量化\\历史数据\\600711.SH 成交量.xlsx')\n",
    "quantile_t_dic = turnover_distribution(df)\n",
    "quantile_t_dic  #键为分位数，值为对应成交量"
   ]
  },
  {
   "cell_type": "code",
   "execution_count": null,
   "id": "02da2296",
   "metadata": {},
   "outputs": [],
   "source": []
  }
 ],
 "metadata": {
  "kernelspec": {
   "display_name": "Python 3 (ipykernel)",
   "language": "python",
   "name": "python3"
  },
  "language_info": {
   "codemirror_mode": {
    "name": "ipython",
    "version": 3
   },
   "file_extension": ".py",
   "mimetype": "text/x-python",
   "name": "python",
   "nbconvert_exporter": "python",
   "pygments_lexer": "ipython3",
   "version": "3.9.7"
  }
 },
 "nbformat": 4,
 "nbformat_minor": 5
}
